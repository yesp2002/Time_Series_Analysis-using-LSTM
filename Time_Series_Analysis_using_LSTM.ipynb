{
  "nbformat": 4,
  "nbformat_minor": 0,
  "metadata": {
    "colab": {
      "name": "Time Series Analysis using LSTM.ipynb",
      "provenance": [],
      "authorship_tag": "ABX9TyODW42Rym3HlOLHsGVHbj/Y",
      "include_colab_link": true
    },
    "kernelspec": {
      "name": "python3",
      "display_name": "Python 3"
    },
    "language_info": {
      "name": "python"
    }
  },
  "cells": [
    {
      "cell_type": "markdown",
      "metadata": {
        "id": "view-in-github",
        "colab_type": "text"
      },
      "source": [
        "<a href=\"https://colab.research.google.com/github/yesp2002/Time_Series_Analysis-using-LSTM/blob/main/Time_Series_Analysis_using_LSTM.ipynb\" target=\"_parent\"><img src=\"https://colab.research.google.com/assets/colab-badge.svg\" alt=\"Open In Colab\"/></a>"
      ]
    },
    {
      "cell_type": "code",
      "execution_count": 1,
      "metadata": {
        "colab": {
          "base_uri": "https://localhost:8080/"
        },
        "id": "XiF88qlvtw-a",
        "outputId": "c973efe7-7cce-4bef-96dd-e5c859f09d0c"
      },
      "outputs": [
        {
          "output_type": "stream",
          "name": "stdout",
          "text": [
            "Looking in indexes: https://pypi.org/simple, https://us-python.pkg.dev/colab-wheels/public/simple/\n",
            "Collecting yfinance\n",
            "  Downloading yfinance-0.1.72-py2.py3-none-any.whl (27 kB)\n",
            "Requirement already satisfied: pandas>=0.24.0 in /usr/local/lib/python3.7/dist-packages (from yfinance) (1.3.5)\n",
            "Requirement already satisfied: multitasking>=0.0.7 in /usr/local/lib/python3.7/dist-packages (from yfinance) (0.0.10)\n",
            "Collecting lxml>=4.5.1\n",
            "  Downloading lxml-4.9.1-cp37-cp37m-manylinux_2_17_x86_64.manylinux2014_x86_64.manylinux_2_24_x86_64.whl (6.4 MB)\n",
            "\u001b[K     |████████████████████████████████| 6.4 MB 35.1 MB/s \n",
            "\u001b[?25hRequirement already satisfied: numpy>=1.15 in /usr/local/lib/python3.7/dist-packages (from yfinance) (1.21.6)\n",
            "Collecting requests>=2.26\n",
            "  Downloading requests-2.28.1-py3-none-any.whl (62 kB)\n",
            "\u001b[K     |████████████████████████████████| 62 kB 1.4 MB/s \n",
            "\u001b[?25hRequirement already satisfied: pytz>=2017.3 in /usr/local/lib/python3.7/dist-packages (from pandas>=0.24.0->yfinance) (2022.1)\n",
            "Requirement already satisfied: python-dateutil>=2.7.3 in /usr/local/lib/python3.7/dist-packages (from pandas>=0.24.0->yfinance) (2.8.2)\n",
            "Requirement already satisfied: six>=1.5 in /usr/local/lib/python3.7/dist-packages (from python-dateutil>=2.7.3->pandas>=0.24.0->yfinance) (1.15.0)\n",
            "Requirement already satisfied: idna<4,>=2.5 in /usr/local/lib/python3.7/dist-packages (from requests>=2.26->yfinance) (2.10)\n",
            "Requirement already satisfied: certifi>=2017.4.17 in /usr/local/lib/python3.7/dist-packages (from requests>=2.26->yfinance) (2022.6.15)\n",
            "Requirement already satisfied: urllib3<1.27,>=1.21.1 in /usr/local/lib/python3.7/dist-packages (from requests>=2.26->yfinance) (1.24.3)\n",
            "Requirement already satisfied: charset-normalizer<3,>=2 in /usr/local/lib/python3.7/dist-packages (from requests>=2.26->yfinance) (2.1.0)\n",
            "Installing collected packages: requests, lxml, yfinance\n",
            "  Attempting uninstall: requests\n",
            "    Found existing installation: requests 2.23.0\n",
            "    Uninstalling requests-2.23.0:\n",
            "      Successfully uninstalled requests-2.23.0\n",
            "  Attempting uninstall: lxml\n",
            "    Found existing installation: lxml 4.2.6\n",
            "    Uninstalling lxml-4.2.6:\n",
            "      Successfully uninstalled lxml-4.2.6\n",
            "\u001b[31mERROR: pip's dependency resolver does not currently take into account all the packages that are installed. This behaviour is the source of the following dependency conflicts.\n",
            "google-colab 1.0.0 requires requests~=2.23.0, but you have requests 2.28.1 which is incompatible.\n",
            "datascience 0.10.6 requires folium==0.2.1, but you have folium 0.8.3 which is incompatible.\u001b[0m\n",
            "Successfully installed lxml-4.9.1 requests-2.28.1 yfinance-0.1.72\n"
          ]
        }
      ],
      "source": [
        "import numpy as np\n",
        "import pandas as pd\n",
        "! pip install yfinance"
      ]
    },
    {
      "cell_type": "code",
      "source": [
        "import yfinance as yf"
      ],
      "metadata": {
        "id": "zceZhYwOt1WK"
      },
      "execution_count": 2,
      "outputs": []
    },
    {
      "cell_type": "code",
      "source": [
        "help(yf)"
      ],
      "metadata": {
        "id": "MnomO97Ot6Ja"
      },
      "execution_count": null,
      "outputs": []
    },
    {
      "cell_type": "code",
      "source": [
        "stock_symbol = 'GAIL.NS'"
      ],
      "metadata": {
        "id": "re23zB7Y37Gy"
      },
      "execution_count": 4,
      "outputs": []
    },
    {
      "cell_type": "code",
      "source": [
        "df = yf.download(stock_symbol,start = '2000-01-01',end = '2022-01-01')"
      ],
      "metadata": {
        "colab": {
          "base_uri": "https://localhost:8080/"
        },
        "id": "SEhIi6qmt8Jw",
        "outputId": "c26dfa5f-1580-4484-edc8-16d9b54cfb83"
      },
      "execution_count": 5,
      "outputs": [
        {
          "output_type": "stream",
          "name": "stdout",
          "text": [
            "\r[*********************100%***********************]  1 of 1 completed\n"
          ]
        }
      ]
    },
    {
      "cell_type": "code",
      "source": [
        "df.head()"
      ],
      "metadata": {
        "colab": {
          "base_uri": "https://localhost:8080/",
          "height": 237
        },
        "id": "eQV6uw6uuNVV",
        "outputId": "31feddec-5147-4693-e28d-928bd2045486"
      },
      "execution_count": 6,
      "outputs": [
        {
          "output_type": "execute_result",
          "data": {
            "text/plain": [
              "               Open     High      Low    Close  Adj Close  Volume\n",
              "Date                                                             \n",
              "2008-12-01  3.41341  3.41341  3.41341  3.41341   3.346533    4453\n",
              "2008-12-02  3.41341  3.41341  3.41341  3.41341   3.346533     695\n",
              "2008-12-03  3.41341  3.41341  3.41341  3.41341   3.346533       0\n",
              "2008-12-04  3.41341  3.41341  3.41341  3.41341   3.346533     556\n",
              "2008-12-05  3.41341  3.41341  3.41341  3.41341   3.346533       0"
            ],
            "text/html": [
              "\n",
              "  <div id=\"df-ca038109-14b6-442f-bb6a-d8ccf4e3c3d8\">\n",
              "    <div class=\"colab-df-container\">\n",
              "      <div>\n",
              "<style scoped>\n",
              "    .dataframe tbody tr th:only-of-type {\n",
              "        vertical-align: middle;\n",
              "    }\n",
              "\n",
              "    .dataframe tbody tr th {\n",
              "        vertical-align: top;\n",
              "    }\n",
              "\n",
              "    .dataframe thead th {\n",
              "        text-align: right;\n",
              "    }\n",
              "</style>\n",
              "<table border=\"1\" class=\"dataframe\">\n",
              "  <thead>\n",
              "    <tr style=\"text-align: right;\">\n",
              "      <th></th>\n",
              "      <th>Open</th>\n",
              "      <th>High</th>\n",
              "      <th>Low</th>\n",
              "      <th>Close</th>\n",
              "      <th>Adj Close</th>\n",
              "      <th>Volume</th>\n",
              "    </tr>\n",
              "    <tr>\n",
              "      <th>Date</th>\n",
              "      <th></th>\n",
              "      <th></th>\n",
              "      <th></th>\n",
              "      <th></th>\n",
              "      <th></th>\n",
              "      <th></th>\n",
              "    </tr>\n",
              "  </thead>\n",
              "  <tbody>\n",
              "    <tr>\n",
              "      <th>2008-12-01</th>\n",
              "      <td>3.41341</td>\n",
              "      <td>3.41341</td>\n",
              "      <td>3.41341</td>\n",
              "      <td>3.41341</td>\n",
              "      <td>3.346533</td>\n",
              "      <td>4453</td>\n",
              "    </tr>\n",
              "    <tr>\n",
              "      <th>2008-12-02</th>\n",
              "      <td>3.41341</td>\n",
              "      <td>3.41341</td>\n",
              "      <td>3.41341</td>\n",
              "      <td>3.41341</td>\n",
              "      <td>3.346533</td>\n",
              "      <td>695</td>\n",
              "    </tr>\n",
              "    <tr>\n",
              "      <th>2008-12-03</th>\n",
              "      <td>3.41341</td>\n",
              "      <td>3.41341</td>\n",
              "      <td>3.41341</td>\n",
              "      <td>3.41341</td>\n",
              "      <td>3.346533</td>\n",
              "      <td>0</td>\n",
              "    </tr>\n",
              "    <tr>\n",
              "      <th>2008-12-04</th>\n",
              "      <td>3.41341</td>\n",
              "      <td>3.41341</td>\n",
              "      <td>3.41341</td>\n",
              "      <td>3.41341</td>\n",
              "      <td>3.346533</td>\n",
              "      <td>556</td>\n",
              "    </tr>\n",
              "    <tr>\n",
              "      <th>2008-12-05</th>\n",
              "      <td>3.41341</td>\n",
              "      <td>3.41341</td>\n",
              "      <td>3.41341</td>\n",
              "      <td>3.41341</td>\n",
              "      <td>3.346533</td>\n",
              "      <td>0</td>\n",
              "    </tr>\n",
              "  </tbody>\n",
              "</table>\n",
              "</div>\n",
              "      <button class=\"colab-df-convert\" onclick=\"convertToInteractive('df-ca038109-14b6-442f-bb6a-d8ccf4e3c3d8')\"\n",
              "              title=\"Convert this dataframe to an interactive table.\"\n",
              "              style=\"display:none;\">\n",
              "        \n",
              "  <svg xmlns=\"http://www.w3.org/2000/svg\" height=\"24px\"viewBox=\"0 0 24 24\"\n",
              "       width=\"24px\">\n",
              "    <path d=\"M0 0h24v24H0V0z\" fill=\"none\"/>\n",
              "    <path d=\"M18.56 5.44l.94 2.06.94-2.06 2.06-.94-2.06-.94-.94-2.06-.94 2.06-2.06.94zm-11 1L8.5 8.5l.94-2.06 2.06-.94-2.06-.94L8.5 2.5l-.94 2.06-2.06.94zm10 10l.94 2.06.94-2.06 2.06-.94-2.06-.94-.94-2.06-.94 2.06-2.06.94z\"/><path d=\"M17.41 7.96l-1.37-1.37c-.4-.4-.92-.59-1.43-.59-.52 0-1.04.2-1.43.59L10.3 9.45l-7.72 7.72c-.78.78-.78 2.05 0 2.83L4 21.41c.39.39.9.59 1.41.59.51 0 1.02-.2 1.41-.59l7.78-7.78 2.81-2.81c.8-.78.8-2.07 0-2.86zM5.41 20L4 18.59l7.72-7.72 1.47 1.35L5.41 20z\"/>\n",
              "  </svg>\n",
              "      </button>\n",
              "      \n",
              "  <style>\n",
              "    .colab-df-container {\n",
              "      display:flex;\n",
              "      flex-wrap:wrap;\n",
              "      gap: 12px;\n",
              "    }\n",
              "\n",
              "    .colab-df-convert {\n",
              "      background-color: #E8F0FE;\n",
              "      border: none;\n",
              "      border-radius: 50%;\n",
              "      cursor: pointer;\n",
              "      display: none;\n",
              "      fill: #1967D2;\n",
              "      height: 32px;\n",
              "      padding: 0 0 0 0;\n",
              "      width: 32px;\n",
              "    }\n",
              "\n",
              "    .colab-df-convert:hover {\n",
              "      background-color: #E2EBFA;\n",
              "      box-shadow: 0px 1px 2px rgba(60, 64, 67, 0.3), 0px 1px 3px 1px rgba(60, 64, 67, 0.15);\n",
              "      fill: #174EA6;\n",
              "    }\n",
              "\n",
              "    [theme=dark] .colab-df-convert {\n",
              "      background-color: #3B4455;\n",
              "      fill: #D2E3FC;\n",
              "    }\n",
              "\n",
              "    [theme=dark] .colab-df-convert:hover {\n",
              "      background-color: #434B5C;\n",
              "      box-shadow: 0px 1px 3px 1px rgba(0, 0, 0, 0.15);\n",
              "      filter: drop-shadow(0px 1px 2px rgba(0, 0, 0, 0.3));\n",
              "      fill: #FFFFFF;\n",
              "    }\n",
              "  </style>\n",
              "\n",
              "      <script>\n",
              "        const buttonEl =\n",
              "          document.querySelector('#df-ca038109-14b6-442f-bb6a-d8ccf4e3c3d8 button.colab-df-convert');\n",
              "        buttonEl.style.display =\n",
              "          google.colab.kernel.accessAllowed ? 'block' : 'none';\n",
              "\n",
              "        async function convertToInteractive(key) {\n",
              "          const element = document.querySelector('#df-ca038109-14b6-442f-bb6a-d8ccf4e3c3d8');\n",
              "          const dataTable =\n",
              "            await google.colab.kernel.invokeFunction('convertToInteractive',\n",
              "                                                     [key], {});\n",
              "          if (!dataTable) return;\n",
              "\n",
              "          const docLinkHtml = 'Like what you see? Visit the ' +\n",
              "            '<a target=\"_blank\" href=https://colab.research.google.com/notebooks/data_table.ipynb>data table notebook</a>'\n",
              "            + ' to learn more about interactive tables.';\n",
              "          element.innerHTML = '';\n",
              "          dataTable['output_type'] = 'display_data';\n",
              "          await google.colab.output.renderOutput(dataTable, element);\n",
              "          const docLink = document.createElement('div');\n",
              "          docLink.innerHTML = docLinkHtml;\n",
              "          element.appendChild(docLink);\n",
              "        }\n",
              "      </script>\n",
              "    </div>\n",
              "  </div>\n",
              "  "
            ]
          },
          "metadata": {},
          "execution_count": 6
        }
      ]
    },
    {
      "cell_type": "code",
      "source": [
        "df.shape"
      ],
      "metadata": {
        "colab": {
          "base_uri": "https://localhost:8080/"
        },
        "id": "FX1Wf9SruPC1",
        "outputId": "f92514d6-722d-45c3-b91d-4e272773f1c6"
      },
      "execution_count": 7,
      "outputs": [
        {
          "output_type": "execute_result",
          "data": {
            "text/plain": [
              "(3225, 6)"
            ]
          },
          "metadata": {},
          "execution_count": 7
        }
      ]
    },
    {
      "cell_type": "code",
      "source": [
        "import matplotlib.pyplot as plt\n",
        "import matplotlib.dates as mdates\n",
        "import datetime as dt\n",
        "\n",
        "plt.figure(figsize = (15,10))\n",
        "# plt.gca().xaxis.set_major_formatter(mdates.DateFormatter('%Y-%m-%d'))\n",
        "# plt.gca().xaxis.set_major_locator(mdates.DayLocater(interval = 60))\n",
        "# x_dates = [dt.datetime.strftime(d,'%Y-%m-%d').date() for d in df.index.values]\n",
        "x_dates = df.index.values\n",
        "plt.plot(x_dates,df[\"High\"], label = \"High\")\n",
        "plt.plot(x_dates,df[\"Low\"], label = \"Low\")\n",
        "plt.xlabel('Time Scale')\n",
        "plt.ylabel(\"Scaled Rupees\")\n",
        "plt.legend()\n",
        "plt.gcf().autofmt_xdate()\n",
        "plt.show()\n",
        "\n"
      ],
      "metadata": {
        "colab": {
          "base_uri": "https://localhost:8080/",
          "height": 563
        },
        "id": "eVnvnVXUuTz0",
        "outputId": "b0fa5127-24f8-44a8-bc65-e3442090fef9"
      },
      "execution_count": 8,
      "outputs": [
        {
          "output_type": "display_data",
          "data": {
            "text/plain": [
              "<Figure size 1080x720 with 1 Axes>"
            ],
            "image/png": "[encoded data removed]"
          },
          "metadata": {
            "needs_background": "light"
          }
        }
      ]
    },
    {
      "cell_type": "code",
      "source": [
        "from tensorflow.keras.models import Sequential\n",
        "from tensorflow.keras.layers import LSTM\n",
        "from tensorflow.keras.layers import Dropout\n",
        "from tensorflow.keras.layers import Dense\n",
        "from tensorflow.keras.layers import *\n",
        "from tensorflow.keras.callbacks import EarlyStopping\n",
        "\n",
        "from sklearn.preprocessing import MinMaxScaler, StandardScaler\n",
        "from sklearn.metrics import mean_squared_error, mean_absolute_percentage_error\n",
        "from sklearn.model_selection import train_test_split, TimeSeriesSplit\n",
        "\n",
        "\n"
      ],
      "metadata": {
        "id": "YPsXPPTOuWtG"
      },
      "execution_count": 9,
      "outputs": []
    },
    {
      "cell_type": "markdown",
      "source": [
        "### Data Preprocessing"
      ],
      "metadata": {
        "id": "7_aakXdzosLx"
      }
    },
    {
      "cell_type": "code",
      "source": [
        "target_y = df[\"Close\"]\n",
        "X_feat = df.iloc[:,0:3]"
      ],
      "metadata": {
        "id": "YaRDEGTvouFm"
      },
      "execution_count": 10,
      "outputs": []
    },
    {
      "cell_type": "code",
      "source": [
        "#Feature Scaling\n",
        "\n",
        "sc = StandardScaler()\n",
        "X_ft = sc.fit_transform(X_feat.values)\n",
        "X_ft = pd.DataFrame(columns = X_feat.columns,data = X_ft, index = X_feat.index)"
      ],
      "metadata": {
        "id": "xjgHpeSWo1Oz"
      },
      "execution_count": 11,
      "outputs": []
    },
    {
      "cell_type": "code",
      "source": [
        "X_ft.head()"
      ],
      "metadata": {
        "colab": {
          "base_uri": "https://localhost:8080/",
          "height": 237
        },
        "id": "U_Vz9vRtrMkY",
        "outputId": "5b627a75-f7d0-431e-e885-144a4d79de39"
      },
      "execution_count": 12,
      "outputs": [
        {
          "output_type": "execute_result",
          "data": {
            "text/plain": [
              "                Open      High       Low\n",
              "Date                                    \n",
              "2008-12-01 -0.852788 -0.847596 -0.861847\n",
              "2008-12-02 -0.852788 -0.847596 -0.861847\n",
              "2008-12-03 -0.852788 -0.847596 -0.861847\n",
              "2008-12-04 -0.852788 -0.847596 -0.861847\n",
              "2008-12-05 -0.852788 -0.847596 -0.861847"
            ],
            "text/html": [
              "\n",
              "  <div id=\"df-1c6512c9-1e0a-4551-94fa-72798b32b1ab\">\n",
              "    <div class=\"colab-df-container\">\n",
              "      <div>\n",
              "<style scoped>\n",
              "    .dataframe tbody tr th:only-of-type {\n",
              "        vertical-align: middle;\n",
              "    }\n",
              "\n",
              "    .dataframe tbody tr th {\n",
              "        vertical-align: top;\n",
              "    }\n",
              "\n",
              "    .dataframe thead th {\n",
              "        text-align: right;\n",
              "    }\n",
              "</style>\n",
              "<table border=\"1\" class=\"dataframe\">\n",
              "  <thead>\n",
              "    <tr style=\"text-align: right;\">\n",
              "      <th></th>\n",
              "      <th>Open</th>\n",
              "      <th>High</th>\n",
              "      <th>Low</th>\n",
              "    </tr>\n",
              "    <tr>\n",
              "      <th>Date</th>\n",
              "      <th></th>\n",
              "      <th></th>\n",
              "      <th></th>\n",
              "    </tr>\n",
              "  </thead>\n",
              "  <tbody>\n",
              "    <tr>\n",
              "      <th>2008-12-01</th>\n",
              "      <td>-0.852788</td>\n",
              "      <td>-0.847596</td>\n",
              "      <td>-0.861847</td>\n",
              "    </tr>\n",
              "    <tr>\n",
              "      <th>2008-12-02</th>\n",
              "      <td>-0.852788</td>\n",
              "      <td>-0.847596</td>\n",
              "      <td>-0.861847</td>\n",
              "    </tr>\n",
              "    <tr>\n",
              "      <th>2008-12-03</th>\n",
              "      <td>-0.852788</td>\n",
              "      <td>-0.847596</td>\n",
              "      <td>-0.861847</td>\n",
              "    </tr>\n",
              "    <tr>\n",
              "      <th>2008-12-04</th>\n",
              "      <td>-0.852788</td>\n",
              "      <td>-0.847596</td>\n",
              "      <td>-0.861847</td>\n",
              "    </tr>\n",
              "    <tr>\n",
              "      <th>2008-12-05</th>\n",
              "      <td>-0.852788</td>\n",
              "      <td>-0.847596</td>\n",
              "      <td>-0.861847</td>\n",
              "    </tr>\n",
              "  </tbody>\n",
              "</table>\n",
              "</div>\n",
              "      <button class=\"colab-df-convert\" onclick=\"convertToInteractive('df-1c6512c9-1e0a-4551-94fa-72798b32b1ab')\"\n",
              "              title=\"Convert this dataframe to an interactive table.\"\n",
              "              style=\"display:none;\">\n",
              "        \n",
              "  <svg xmlns=\"http://www.w3.org/2000/svg\" height=\"24px\"viewBox=\"0 0 24 24\"\n",
              "       width=\"24px\">\n",
              "    <path d=\"M0 0h24v24H0V0z\" fill=\"none\"/>\n",
              "    <path d=\"M18.56 5.44l.94 2.06.94-2.06 2.06-.94-2.06-.94-.94-2.06-.94 2.06-2.06.94zm-11 1L8.5 8.5l.94-2.06 2.06-.94-2.06-.94L8.5 2.5l-.94 2.06-2.06.94zm10 10l.94 2.06.94-2.06 2.06-.94-2.06-.94-.94-2.06-.94 2.06-2.06.94z\"/><path d=\"M17.41 7.96l-1.37-1.37c-.4-.4-.92-.59-1.43-.59-.52 0-1.04.2-1.43.59L10.3 9.45l-7.72 7.72c-.78.78-.78 2.05 0 2.83L4 21.41c.39.39.9.59 1.41.59.51 0 1.02-.2 1.41-.59l7.78-7.78 2.81-2.81c.8-.78.8-2.07 0-2.86zM5.41 20L4 18.59l7.72-7.72 1.47 1.35L5.41 20z\"/>\n",
              "  </svg>\n",
              "      </button>\n",
              "      \n",
              "  <style>\n",
              "    .colab-df-container {\n",
              "      display:flex;\n",
              "      flex-wrap:wrap;\n",
              "      gap: 12px;\n",
              "    }\n",
              "\n",
              "    .colab-df-convert {\n",
              "      background-color: #E8F0FE;\n",
              "      border: none;\n",
              "      border-radius: 50%;\n",
              "      cursor: pointer;\n",
              "      display: none;\n",
              "      fill: #1967D2;\n",
              "      height: 32px;\n",
              "      padding: 0 0 0 0;\n",
              "      width: 32px;\n",
              "    }\n",
              "\n",
              "    .colab-df-convert:hover {\n",
              "      background-color: #E2EBFA;\n",
              "      box-shadow: 0px 1px 2px rgba(60, 64, 67, 0.3), 0px 1px 3px 1px rgba(60, 64, 67, 0.15);\n",
              "      fill: #174EA6;\n",
              "    }\n",
              "\n",
              "    [theme=dark] .colab-df-convert {\n",
              "      background-color: #3B4455;\n",
              "      fill: #D2E3FC;\n",
              "    }\n",
              "\n",
              "    [theme=dark] .colab-df-convert:hover {\n",
              "      background-color: #434B5C;\n",
              "      box-shadow: 0px 1px 3px 1px rgba(0, 0, 0, 0.15);\n",
              "      filter: drop-shadow(0px 1px 2px rgba(0, 0, 0, 0.3));\n",
              "      fill: #FFFFFF;\n",
              "    }\n",
              "  </style>\n",
              "\n",
              "      <script>\n",
              "        const buttonEl =\n",
              "          document.querySelector('#df-1c6512c9-1e0a-4551-94fa-72798b32b1ab button.colab-df-convert');\n",
              "        buttonEl.style.display =\n",
              "          google.colab.kernel.accessAllowed ? 'block' : 'none';\n",
              "\n",
              "        async function convertToInteractive(key) {\n",
              "          const element = document.querySelector('#df-1c6512c9-1e0a-4551-94fa-72798b32b1ab');\n",
              "          const dataTable =\n",
              "            await google.colab.kernel.invokeFunction('convertToInteractive',\n",
              "                                                     [key], {});\n",
              "          if (!dataTable) return;\n",
              "\n",
              "          const docLinkHtml = 'Like what you see? Visit the ' +\n",
              "            '<a target=\"_blank\" href=https://colab.research.google.com/notebooks/data_table.ipynb>data table notebook</a>'\n",
              "            + ' to learn more about interactive tables.';\n",
              "          element.innerHTML = '';\n",
              "          dataTable['output_type'] = 'display_data';\n",
              "          await google.colab.output.renderOutput(dataTable, element);\n",
              "          const docLink = document.createElement('div');\n",
              "          docLink.innerHTML = docLinkHtml;\n",
              "          element.appendChild(docLink);\n",
              "        }\n",
              "      </script>\n",
              "    </div>\n",
              "  </div>\n",
              "  "
            ]
          },
          "metadata": {},
          "execution_count": 12
        }
      ]
    },
    {
      "cell_type": "code",
      "source": [
        "def lstm_split(data, n_steps):\n",
        "  X,y = [],[]\n",
        "  for i in range(len(data) - n_steps + 1):\n",
        "    X.append(data.iloc[i:i+n_steps, :-1])\n",
        "    y.append(data.iloc[i+n_steps - 1,-1])\n",
        "\n",
        "  return np.array(X), np.array(y)"
      ],
      "metadata": {
        "id": "H2E09U3CpH4E"
      },
      "execution_count": 13,
      "outputs": []
    },
    {
      "cell_type": "markdown",
      "source": [
        "### Train and Test Splits "
      ],
      "metadata": {
        "id": "krwCJ84NptJJ"
      }
    },
    {
      "cell_type": "code",
      "source": [
        "stock_data = X_ft.copy()\n",
        "stock_data['Target'] = target_y\n",
        "\n",
        "\n",
        "X1,y1 = lstm_split(stock_data, n_steps = 2)\n",
        "\n",
        "train_split = 0.8\n",
        "split_idx = int(np.ceil(len(X1)*train_split))\n",
        "date_index = stock_data.index\n",
        "\n",
        "X_train, X_test = X1[:split_idx], X1[split_idx:]\n",
        "y_train, y_test = y1[:split_idx], y1[split_idx:]\n",
        "\n",
        "X_train_date, X_test_date = date_index[:split_idx], date_index[split_idx:]\n",
        "\n",
        "print(X1.shape, X_train.shape, X_test.shape, y_test.shape)\n"
      ],
      "metadata": {
        "colab": {
          "base_uri": "https://localhost:8080/"
        },
        "id": "ViaixBs2pxY7",
        "outputId": "1100fdf4-75b5-4cda-bfa9-13d42a6b71dd"
      },
      "execution_count": 14,
      "outputs": [
        {
          "output_type": "stream",
          "name": "stdout",
          "text": [
            "(3224, 2, 3) (2580, 2, 3) (644, 2, 3) (644,)\n"
          ]
        }
      ]
    },
    {
      "cell_type": "code",
      "source": [
        "X_train"
      ],
      "metadata": {
        "id": "P7qGB6V-lCJd",
        "colab": {
          "base_uri": "https://localhost:8080/"
        },
        "outputId": "22c86eed-3a9a-4424-fd89-bc6790dffb4a"
      },
      "execution_count": 15,
      "outputs": [
        {
          "output_type": "execute_result",
          "data": {
            "text/plain": [
              "array([[[-0.8527881 , -0.84759638, -0.86184698],\n",
              "        [-0.8527881 , -0.84759638, -0.86184698]],\n",
              "\n",
              "       [[-0.8527881 , -0.84759638, -0.86184698],\n",
              "        [-0.8527881 , -0.84759638, -0.86184698]],\n",
              "\n",
              "       [[-0.8527881 , -0.84759638, -0.86184698],\n",
              "        [-0.8527881 , -0.84759638, -0.86184698]],\n",
              "\n",
              "       ...,\n",
              "\n",
              "       [[ 2.37484575,  2.27143139,  2.5085629 ],\n",
              "        [ 2.37484575,  2.27143139,  2.5085629 ]],\n",
              "\n",
              "       [[ 2.37484575,  2.27143139,  2.5085629 ],\n",
              "        [ 2.37484575,  2.27143139,  2.5085629 ]],\n",
              "\n",
              "       [[ 2.37484575,  2.27143139,  2.5085629 ],\n",
              "        [ 2.37484575,  2.27143139,  2.5085629 ]]])"
            ]
          },
          "metadata": {},
          "execution_count": 15
        }
      ]
    },
    {
      "cell_type": "code",
      "source": [
        "X_train.shape"
      ],
      "metadata": {
        "id": "OzYcIfQrlfK5",
        "colab": {
          "base_uri": "https://localhost:8080/"
        },
        "outputId": "a21079f3-998a-4cfe-b5a4-1c23ed2f9a90"
      },
      "execution_count": 16,
      "outputs": [
        {
          "output_type": "execute_result",
          "data": {
            "text/plain": [
              "(2580, 2, 3)"
            ]
          },
          "metadata": {},
          "execution_count": 16
        }
      ]
    },
    {
      "cell_type": "code",
      "source": [
        "y_train"
      ],
      "metadata": {
        "id": "mDbQKtNjlM_e",
        "colab": {
          "base_uri": "https://localhost:8080/"
        },
        "outputId": "e16b84ff-5111-44ca-c0b5-48093f34286d"
      },
      "execution_count": 17,
      "outputs": [
        {
          "output_type": "execute_result",
          "data": {
            "text/plain": [
              "array([  3.41340995,   3.41340995,   3.41340995, ..., 165.5       ,\n",
              "       165.5       , 165.5       ])"
            ]
          },
          "metadata": {},
          "execution_count": 17
        }
      ]
    },
    {
      "cell_type": "code",
      "source": [
        "X_test"
      ],
      "metadata": {
        "id": "cfJfqpe1lUtI",
        "colab": {
          "base_uri": "https://localhost:8080/"
        },
        "outputId": "e450f556-2ab7-4806-c147-ee0f983ed665"
      },
      "execution_count": 18,
      "outputs": [
        {
          "output_type": "execute_result",
          "data": {
            "text/plain": [
              "array([[[2.37484575, 2.27143139, 2.5085629 ],\n",
              "        [2.18766346, 2.35706256, 2.2611158 ]],\n",
              "\n",
              "       [[2.18766346, 2.35706256, 2.2611158 ],\n",
              "        [2.5321585 , 2.43499665, 2.22160723]],\n",
              "\n",
              "       [[2.5321585 , 2.43499665, 2.22160723],\n",
              "        [2.52419341, 2.41575368, 2.60213538]],\n",
              "\n",
              "       ...,\n",
              "\n",
              "       [[1.52455976, 1.45071859, 1.46574955],\n",
              "        [1.5056423 , 1.53057695, 1.4907023 ]],\n",
              "\n",
              "       [[1.5056423 , 1.53057695, 1.4907023 ],\n",
              "        [1.39014686, 1.50556103, 1.48030536]],\n",
              "\n",
              "       [[1.39014686, 1.50556103, 1.48030536],\n",
              "        [1.46780753, 1.50363676, 1.39609007]]])"
            ]
          },
          "metadata": {},
          "execution_count": 18
        }
      ]
    },
    {
      "cell_type": "code",
      "source": [
        "y_test"
      ],
      "metadata": {
        "id": "LJIPxn6hlXWo",
        "colab": {
          "base_uri": "https://localhost:8080/"
        },
        "outputId": "1590f501-ef39-4d3b-9104-d33a332bee6c"
      },
      "execution_count": 19,
      "outputs": [
        {
          "output_type": "execute_result",
          "data": {
            "text/plain": [
              "array([160.25      , 163.25      , 170.        , 170.        ,\n",
              "       154.5       , 154.75      , 153.19999695, 161.69999695,\n",
              "       162.        , 149.8500061 , 157.80000305, 159.8500061 ,\n",
              "       159.8500061 , 156.        , 146.94999695, 142.        ,\n",
              "       153.8999939 , 135.5       , 135.5       , 139.8999939 ,\n",
              "       142.8999939 , 142.        , 142.        , 126.        ,\n",
              "       126.5       , 132.6000061 , 126.25      , 132.30000305,\n",
              "       129.8999939 , 129.75      , 133.30000305, 122.59999847,\n",
              "       122.59999847, 118.44999695, 112.        , 103.34999847,\n",
              "       101.        , 101.        , 102.5       , 105.        ,\n",
              "       105.        ,  94.80000305,  94.15000153,  95.        ,\n",
              "        95.        ,  95.        ,  96.        ,  88.        ,\n",
              "        92.        ,  92.        ,  92.        ,  92.        ,\n",
              "       102.        , 101.94999695, 115.80000305, 115.55000305,\n",
              "       123.84999847, 124.69999695, 120.        , 110.        ,\n",
              "       102.34999847, 105.44999695, 112.59999847, 109.        ,\n",
              "       109.        , 108.        , 108.        , 117.19999695,\n",
              "       121.        , 126.05000305, 140.94999695, 124.09999847,\n",
              "       137.80000305, 125.05000305, 135.        , 142.44999695,\n",
              "       140.        , 130.        , 130.        , 126.30000305,\n",
              "       113.75      , 107.75      , 116.15000153, 116.19999695,\n",
              "       105.15000153, 114.90000153, 130.        , 121.80000305,\n",
              "       120.        , 119.94999695, 119.        , 119.80000305,\n",
              "       119.80000305, 113.94999695, 116.5       , 116.94999695,\n",
              "       116.65000153, 119.75      , 111.        , 111.        ,\n",
              "       105.        , 114.90000153, 107.05000305, 110.69999695,\n",
              "       108.15000153, 107.5       , 115.        , 115.        ,\n",
              "       105.59999847, 106.        , 109.94999695, 109.94999695,\n",
              "       107.94999695, 109.        , 110.        , 110.        ,\n",
              "       107.34999847, 100.5       , 100.5       , 105.        ,\n",
              "       110.        , 110.15000153, 114.69999695, 114.69999695,\n",
              "       100.        ,  98.        , 100.05000305,  98.        ,\n",
              "        95.5       ,  95.5       ,  95.5       ,  90.        ,\n",
              "        90.        , 101.90000153, 101.90000153, 101.90000153,\n",
              "        96.15000153, 109.75      , 102.65000153, 102.65000153,\n",
              "       107.44999695,  97.09999847, 109.        , 118.44999695,\n",
              "       114.69999695, 105.5       , 125.59999847, 138.75      ,\n",
              "       135.        , 132.05000305, 142.69999695, 140.19999695,\n",
              "       143.30000305, 144.        , 144.19999695, 140.19999695,\n",
              "       144.8999939 , 143.19999695, 143.19999695, 140.        ,\n",
              "       134.        , 134.        , 134.44999695, 130.        ,\n",
              "       136.94999695, 130.        , 130.        , 130.        ,\n",
              "       112.30000305, 120.        , 115.        , 137.44999695,\n",
              "       124.75      , 140.05000305, 138.8999939 , 128.        ,\n",
              "       146.1499939 , 145.        , 148.        , 134.3999939 ,\n",
              "       130.6000061 , 129.30000305, 120.        , 120.        ,\n",
              "       120.        , 111.15000153, 109.19999695, 117.65000153,\n",
              "       117.65000153, 109.75      , 109.75      , 105.80000305,\n",
              "       105.80000305, 105.        , 101.90000153, 109.09999847,\n",
              "        95.        ,  82.84999847,  80.05000305,  82.44999695,\n",
              "        78.75      ,  67.25      ,  69.05000305,  82.55000305,\n",
              "        82.55000305,  84.5       ,  82.        ,  85.        ,\n",
              "       101.90000153,  94.90000153,  94.59999847,  82.09999847,\n",
              "        86.44999695,  86.75      ,  86.75      ,  93.55000305,\n",
              "        89.69999695,  95.        ,  89.25      ,  87.5       ,\n",
              "        92.        ,  85.        ,  86.55000305, 103.        ,\n",
              "        98.75      ,  95.05000305,  95.05000305,  86.19999695,\n",
              "        90.        ,  90.        ,  90.        ,  83.90000153,\n",
              "        84.40000153,  86.30000305,  93.        ,  93.40000153,\n",
              "        87.        ,  87.        ,  93.84999847,  93.84999847,\n",
              "        96.80000305,  87.55000305,  84.        ,  89.90000153,\n",
              "        87.        , 104.25      , 105.09999847, 100.25      ,\n",
              "        97.5       , 100.        ,  91.        ,  95.90000153,\n",
              "        92.80000305,  92.80000305,  95.40000153,  95.        ,\n",
              "        92.94999695,  99.5       ,  95.        ,  92.80000305,\n",
              "        94.5       ,  98.30000305,  96.84999847,  94.5       ,\n",
              "        94.80000305,  93.19999695,  96.90000153,  97.94999695,\n",
              "        96.65000153, 100.        ,  94.15000153, 100.        ,\n",
              "        94.69999695,  94.09999847,  89.        ,  82.05000305,\n",
              "        81.        ,  78.75      ,  76.5       ,  83.30000305,\n",
              "        81.        ,  83.09999847,  80.05000305,  83.        ,\n",
              "        92.        ,  90.        ,  86.59999847,  92.        ,\n",
              "        87.19999695, 104.59999847, 103.5       ,  94.        ,\n",
              "        89.5       ,  90.84999847,  90.25      ,  94.94999695,\n",
              "        94.30000305,  94.80000305,  92.        ,  92.59999847,\n",
              "        93.55000305,  97.75      ,  97.44999695,  96.15000153,\n",
              "        99.15000153,  99.        , 103.        , 110.44999695,\n",
              "       113.25      , 116.55000305, 108.65000153, 103.69999695,\n",
              "       102.        , 100.80000305, 105.65000153, 114.75      ,\n",
              "       110.65000153, 104.44999695, 110.94999695, 109.5       ,\n",
              "       106.19999695, 106.44999695, 105.5       , 108.        ,\n",
              "       107.40000153, 104.09999847, 112.34999847, 101.05000305,\n",
              "       116.05000305, 119.94999695, 126.        , 126.59999847,\n",
              "       124.84999847, 141.8500061 , 131.1499939 , 134.19999695,\n",
              "       137.55000305, 139.6499939 , 158.30000305, 141.3999939 ,\n",
              "       132.        , 130.5       , 129.94999695, 129.3500061 ,\n",
              "       128.94999695, 127.90000153, 122.80000305, 117.80000305,\n",
              "       120.        , 115.        , 116.80000305, 117.        ,\n",
              "       116.94999695, 116.        , 116.90000153, 113.55000305,\n",
              "       109.34999847, 112.25      , 107.44999695, 113.55000305,\n",
              "       105.25      , 105.25      , 102.59999847, 104.        ,\n",
              "       105.        , 103.15000153, 100.        , 108.44999695,\n",
              "       104.65000153, 100.84999847, 104.25      , 108.        ,\n",
              "       105.19999695, 102.40000153, 104.55000305, 103.30000305,\n",
              "       107.34999847, 103.34999847, 105.        , 105.        ,\n",
              "       108.19999695, 107.75      , 102.5       , 107.        ,\n",
              "       103.15000153, 107.59999847, 109.        , 108.90000153,\n",
              "        97.84999847, 105.44999695, 103.94999695, 107.94999695,\n",
              "       105.19999695, 107.        , 105.        , 115.15000153,\n",
              "       111.59999847, 114.94999695, 108.75      , 108.        ,\n",
              "       106.40000153, 110.90000153, 111.        , 110.        ,\n",
              "       110.09999847, 111.        , 112.09999847, 113.05000305,\n",
              "       110.        , 117.55000305, 123.34999847, 129.6499939 ,\n",
              "       123.05000305, 126.        , 126.59999847, 120.55000305,\n",
              "       116.19999695, 125.        , 120.        , 119.94999695,\n",
              "       115.69999695, 117.94999695, 113.5       , 117.80000305,\n",
              "       117.90000153, 138.1000061 , 152.6000061 , 142.3500061 ,\n",
              "       135.5       , 143.3500061 , 150.8500061 , 152.05000305,\n",
              "       152.8999939 , 150.1000061 , 156.3500061 , 153.1000061 ,\n",
              "       156.44999695, 160.        , 162.        , 157.        ,\n",
              "       153.8999939 , 154.94999695, 155.        , 153.        ,\n",
              "       152.5       , 157.6000061 , 151.5       , 155.5       ,\n",
              "       150.1499939 , 136.25      , 134.25      , 141.05000305,\n",
              "       136.5       , 143.94999695, 144.19999695, 144.44999695,\n",
              "       144.80000305, 137.55000305, 127.        , 128.        ,\n",
              "       126.        , 118.55000305, 111.15000153,  98.84999847,\n",
              "        99.94999695,  91.69999695,  91.25      ,  86.        ,\n",
              "        79.94999695,  85.09999847,  83.        ,  89.34999847,\n",
              "        98.09999847, 106.05000305, 106.94999695, 101.94999695,\n",
              "       102.59999847, 102.05000305, 104.84999847, 104.        ,\n",
              "       106.05000305, 107.65000153, 107.5       , 109.        ,\n",
              "       107.5       , 107.59999847, 109.34999847, 109.94999695,\n",
              "       109.59999847, 111.34999847, 111.59999847, 110.5       ,\n",
              "       112.90000153, 111.69999695, 117.        , 121.90000153,\n",
              "       122.        , 121.65000153, 121.5       , 119.55000305,\n",
              "       119.05000305, 119.05000305, 119.59999847, 119.        ,\n",
              "       120.90000153, 119.        , 116.        , 118.        ,\n",
              "       117.40000153, 114.30000305, 117.84999847, 117.5       ,\n",
              "       111.90000153, 112.5       , 110.65000153, 110.5       ,\n",
              "       118.        , 118.55000305, 116.75      , 118.        ,\n",
              "       115.80000305, 116.09999847, 118.        , 117.55000305,\n",
              "       117.65000153, 120.09999847, 123.        , 121.25      ,\n",
              "       117.94999695, 116.55000305, 114.75      , 124.05000305,\n",
              "       131.        , 140.94999695, 140.8999939 , 143.6499939 ,\n",
              "       138.1499939 , 134.8999939 , 130.44999695, 130.05000305,\n",
              "       129.05000305, 130.19999695, 127.40000153, 128.44999695,\n",
              "       130.05000305, 126.30000305, 125.        , 125.44999695,\n",
              "       128.19999695, 125.40000153, 120.05000305, 119.69999695,\n",
              "       115.94999695, 115.09999847, 111.34999847, 114.40000153,\n",
              "       114.09999847, 115.        , 115.5       , 114.90000153,\n",
              "       116.69999695, 118.40000153, 119.69999695, 119.34999847,\n",
              "       120.        , 118.75      , 120.19999695, 119.        ,\n",
              "       119.05000305, 117.44999695, 117.5       , 115.75      ,\n",
              "       115.75      , 117.65000153, 118.09999847, 118.05000305,\n",
              "       118.94999695, 117.34999847, 119.19999695, 118.25      ,\n",
              "       119.65000153, 117.        , 120.59999847, 122.59999847,\n",
              "       122.94999695, 125.        , 120.40000153, 126.        ,\n",
              "       128.1499939 , 125.        , 118.34999847, 121.        ,\n",
              "       119.09999847, 120.        , 120.        , 118.09999847,\n",
              "       120.        , 123.90000153, 125.09999847, 122.09999847,\n",
              "       121.94999695, 123.59999847, 127.        , 130.        ,\n",
              "       131.05000305, 137.94999695, 139.        , 136.19999695,\n",
              "       139.19999695, 129.25      , 133.3999939 , 131.1499939 ,\n",
              "       126.94999695, 122.30000305, 126.65000153, 129.05000305,\n",
              "       125.75      , 127.65000153, 128.05000305, 115.75      ,\n",
              "       116.59999847, 117.55000305, 122.        , 118.94999695,\n",
              "       118.        , 118.55000305, 120.40000153, 121.84999847,\n",
              "       125.30000305, 127.        , 125.84999847, 124.15000153,\n",
              "       121.55000305, 120.        , 107.40000153, 112.5       ,\n",
              "       123.15000153, 123.        , 122.        , 117.05000305,\n",
              "       119.05000305, 118.65000153, 119.15000153, 116.94999695])"
            ]
          },
          "metadata": {},
          "execution_count": 19
        }
      ]
    },
    {
      "cell_type": "code",
      "source": [
        "X_test_date.shape"
      ],
      "metadata": {
        "colab": {
          "base_uri": "https://localhost:8080/"
        },
        "id": "fvm4sDXyyHFw",
        "outputId": "59fe51b2-621c-4538-c1a3-2a876fdf1e2f"
      },
      "execution_count": 20,
      "outputs": [
        {
          "output_type": "execute_result",
          "data": {
            "text/plain": [
              "(645,)"
            ]
          },
          "metadata": {},
          "execution_count": 20
        }
      ]
    },
    {
      "cell_type": "markdown",
      "source": [
        "### Building the LSTM Model"
      ],
      "metadata": {
        "id": "-FnZ04oHrpC_"
      }
    },
    {
      "cell_type": "code",
      "source": [
        "lstm = Sequential()\n",
        "lstm.add(LSTM(32, input_shape = (X_train.shape[1], X_train.shape[2]), activation = 'relu', return_sequences = False))\n",
        "lstm.add(Dense(1))\n",
        "lstm.compile(loss='mean_squared_error', optimizer = 'adam')\n",
        "lstm.summary()"
      ],
      "metadata": {
        "id": "73FuNwSvrrf2",
        "colab": {
          "base_uri": "https://localhost:8080/"
        },
        "outputId": "148f48d6-6d42-4778-eee5-712ed571c581"
      },
      "execution_count": 21,
      "outputs": [
        {
          "output_type": "stream",
          "name": "stdout",
          "text": [
            "Model: \"sequential\"\n",
            "_________________________________________________________________\n",
            " Layer (type)                Output Shape              Param #   \n",
            "=================================================================\n",
            " lstm (LSTM)                 (None, 32)                4608      \n",
            "                                                                 \n",
            " dense (Dense)               (None, 1)                 33        \n",
            "                                                                 \n",
            "=================================================================\n",
            "Total params: 4,641\n",
            "Trainable params: 4,641\n",
            "Non-trainable params: 0\n",
            "_________________________________________________________________\n"
          ]
        }
      ]
    },
    {
      "cell_type": "code",
      "source": [
        "history = lstm.fit(X_train,y_train, epochs = 100, batch_size = 4, verbose = 2, shuffle = False)"
      ],
      "metadata": {
        "id": "xnYS4QbnsHtM",
        "colab": {
          "base_uri": "https://localhost:8080/"
        },
        "outputId": "a86dd222-7ac9-4bda-cbf4-f4d0cd6b4878"
      },
      "execution_count": 22,
      "outputs": [
        {
          "output_type": "stream",
          "name": "stdout",
          "text": [
            "Epoch 1/100\n",
            "645/645 - 2s - loss: 1946.9291 - 2s/epoch - 4ms/step\n",
            "Epoch 2/100\n",
            "645/645 - 1s - loss: 178.1723 - 1s/epoch - 2ms/step\n",
            "Epoch 3/100\n",
            "645/645 - 1s - loss: 112.1258 - 1s/epoch - 2ms/step\n",
            "Epoch 4/100\n",
            "645/645 - 1s - loss: 77.1872 - 1s/epoch - 2ms/step\n",
            "Epoch 5/100\n",
            "645/645 - 1s - loss: 45.9733 - 1s/epoch - 2ms/step\n",
            "Epoch 6/100\n",
            "645/645 - 1s - loss: 23.0136 - 1s/epoch - 2ms/step\n",
            "Epoch 7/100\n",
            "645/645 - 1s - loss: 10.8147 - 1s/epoch - 2ms/step\n",
            "Epoch 8/100\n",
            "645/645 - 1s - loss: 6.3434 - 1s/epoch - 2ms/step\n",
            "Epoch 9/100\n",
            "645/645 - 2s - loss: 5.0387 - 2s/epoch - 3ms/step\n",
            "Epoch 10/100\n",
            "645/645 - 2s - loss: 4.9977 - 2s/epoch - 3ms/step\n",
            "Epoch 11/100\n",
            "645/645 - 2s - loss: 5.2182 - 2s/epoch - 3ms/step\n",
            "Epoch 12/100\n",
            "645/645 - 2s - loss: 5.5381 - 2s/epoch - 3ms/step\n",
            "Epoch 13/100\n",
            "645/645 - 2s - loss: 5.5005 - 2s/epoch - 3ms/step\n",
            "Epoch 14/100\n",
            "645/645 - 2s - loss: 5.5797 - 2s/epoch - 3ms/step\n",
            "Epoch 15/100\n",
            "645/645 - 2s - loss: 5.9848 - 2s/epoch - 3ms/step\n",
            "Epoch 16/100\n",
            "645/645 - 3s - loss: 6.0866 - 3s/epoch - 4ms/step\n",
            "Epoch 17/100\n",
            "645/645 - 2s - loss: 6.0803 - 2s/epoch - 4ms/step\n",
            "Epoch 18/100\n",
            "645/645 - 2s - loss: 6.0476 - 2s/epoch - 3ms/step\n",
            "Epoch 19/100\n",
            "645/645 - 2s - loss: 5.9759 - 2s/epoch - 3ms/step\n",
            "Epoch 20/100\n",
            "645/645 - 3s - loss: 5.8789 - 3s/epoch - 4ms/step\n",
            "Epoch 21/100\n",
            "645/645 - 2s - loss: 5.8254 - 2s/epoch - 4ms/step\n",
            "Epoch 22/100\n",
            "645/645 - 3s - loss: 5.7345 - 3s/epoch - 4ms/step\n",
            "Epoch 23/100\n",
            "645/645 - 3s - loss: 5.7288 - 3s/epoch - 4ms/step\n",
            "Epoch 24/100\n",
            "645/645 - 2s - loss: 5.6212 - 2s/epoch - 4ms/step\n",
            "Epoch 25/100\n",
            "645/645 - 2s - loss: 5.5515 - 2s/epoch - 3ms/step\n",
            "Epoch 26/100\n",
            "645/645 - 2s - loss: 5.5090 - 2s/epoch - 3ms/step\n",
            "Epoch 27/100\n",
            "645/645 - 2s - loss: 5.4054 - 2s/epoch - 3ms/step\n",
            "Epoch 28/100\n",
            "645/645 - 2s - loss: 5.3485 - 2s/epoch - 3ms/step\n",
            "Epoch 29/100\n",
            "645/645 - 2s - loss: 5.2065 - 2s/epoch - 3ms/step\n",
            "Epoch 30/100\n",
            "645/645 - 2s - loss: 5.0918 - 2s/epoch - 3ms/step\n",
            "Epoch 31/100\n",
            "645/645 - 2s - loss: 4.9688 - 2s/epoch - 4ms/step\n",
            "Epoch 32/100\n",
            "645/645 - 2s - loss: 4.9197 - 2s/epoch - 3ms/step\n",
            "Epoch 33/100\n",
            "645/645 - 1s - loss: 4.7430 - 1s/epoch - 2ms/step\n",
            "Epoch 34/100\n",
            "645/645 - 1s - loss: 4.7261 - 1s/epoch - 2ms/step\n",
            "Epoch 35/100\n",
            "645/645 - 1s - loss: 4.6963 - 1s/epoch - 2ms/step\n",
            "Epoch 36/100\n",
            "645/645 - 1s - loss: 4.6156 - 1s/epoch - 2ms/step\n",
            "Epoch 37/100\n",
            "645/645 - 1s - loss: 4.5009 - 1s/epoch - 2ms/step\n",
            "Epoch 38/100\n",
            "645/645 - 1s - loss: 4.4655 - 1s/epoch - 2ms/step\n",
            "Epoch 39/100\n",
            "645/645 - 1s - loss: 4.4301 - 1s/epoch - 2ms/step\n",
            "Epoch 40/100\n",
            "645/645 - 1s - loss: 4.3596 - 1s/epoch - 2ms/step\n",
            "Epoch 41/100\n",
            "645/645 - 1s - loss: 4.2616 - 1s/epoch - 2ms/step\n",
            "Epoch 42/100\n",
            "645/645 - 1s - loss: 4.2116 - 1s/epoch - 2ms/step\n",
            "Epoch 43/100\n",
            "645/645 - 1s - loss: 4.1687 - 1s/epoch - 2ms/step\n",
            "Epoch 44/100\n",
            "645/645 - 1s - loss: 4.1235 - 1s/epoch - 2ms/step\n",
            "Epoch 45/100\n",
            "645/645 - 1s - loss: 4.0661 - 1s/epoch - 2ms/step\n",
            "Epoch 46/100\n",
            "645/645 - 1s - loss: 3.9716 - 1s/epoch - 2ms/step\n",
            "Epoch 47/100\n",
            "645/645 - 1s - loss: 3.9234 - 1s/epoch - 2ms/step\n",
            "Epoch 48/100\n",
            "645/645 - 1s - loss: 3.9039 - 1s/epoch - 2ms/step\n",
            "Epoch 49/100\n",
            "645/645 - 1s - loss: 3.8477 - 1s/epoch - 2ms/step\n",
            "Epoch 50/100\n",
            "645/645 - 1s - loss: 3.7980 - 1s/epoch - 2ms/step\n",
            "Epoch 51/100\n",
            "645/645 - 1s - loss: 3.7353 - 1s/epoch - 2ms/step\n",
            "Epoch 52/100\n",
            "645/645 - 1s - loss: 3.6919 - 1s/epoch - 2ms/step\n",
            "Epoch 53/100\n",
            "645/645 - 1s - loss: 3.6435 - 1s/epoch - 2ms/step\n",
            "Epoch 54/100\n",
            "645/645 - 1s - loss: 3.6051 - 1s/epoch - 2ms/step\n",
            "Epoch 55/100\n",
            "645/645 - 1s - loss: 3.5475 - 1s/epoch - 2ms/step\n",
            "Epoch 56/100\n",
            "645/645 - 1s - loss: 3.5095 - 1s/epoch - 2ms/step\n",
            "Epoch 57/100\n",
            "645/645 - 1s - loss: 3.4608 - 1s/epoch - 2ms/step\n",
            "Epoch 58/100\n",
            "645/645 - 1s - loss: 3.4139 - 1s/epoch - 2ms/step\n",
            "Epoch 59/100\n",
            "645/645 - 1s - loss: 3.3679 - 1s/epoch - 2ms/step\n",
            "Epoch 60/100\n",
            "645/645 - 1s - loss: 3.3414 - 1s/epoch - 2ms/step\n",
            "Epoch 61/100\n",
            "645/645 - 1s - loss: 3.2910 - 1s/epoch - 2ms/step\n",
            "Epoch 62/100\n",
            "645/645 - 1s - loss: 3.2542 - 1s/epoch - 2ms/step\n",
            "Epoch 63/100\n",
            "645/645 - 1s - loss: 3.2080 - 1s/epoch - 2ms/step\n",
            "Epoch 64/100\n",
            "645/645 - 1s - loss: 3.1743 - 1s/epoch - 2ms/step\n",
            "Epoch 65/100\n",
            "645/645 - 1s - loss: 3.1339 - 1s/epoch - 2ms/step\n",
            "Epoch 66/100\n",
            "645/645 - 1s - loss: 3.0933 - 1s/epoch - 2ms/step\n",
            "Epoch 67/100\n",
            "645/645 - 1s - loss: 3.0522 - 1s/epoch - 2ms/step\n",
            "Epoch 68/100\n",
            "645/645 - 1s - loss: 3.0159 - 1s/epoch - 2ms/step\n",
            "Epoch 69/100\n",
            "645/645 - 1s - loss: 2.9749 - 1s/epoch - 2ms/step\n",
            "Epoch 70/100\n",
            "645/645 - 1s - loss: 2.9415 - 1s/epoch - 2ms/step\n",
            "Epoch 71/100\n",
            "645/645 - 1s - loss: 2.8971 - 1s/epoch - 2ms/step\n",
            "Epoch 72/100\n",
            "645/645 - 1s - loss: 2.8635 - 1s/epoch - 2ms/step\n",
            "Epoch 73/100\n",
            "645/645 - 1s - loss: 2.8215 - 1s/epoch - 2ms/step\n",
            "Epoch 74/100\n",
            "645/645 - 1s - loss: 2.7786 - 1s/epoch - 2ms/step\n",
            "Epoch 75/100\n",
            "645/645 - 1s - loss: 2.7204 - 1000ms/epoch - 2ms/step\n",
            "Epoch 76/100\n",
            "645/645 - 1s - loss: 2.7072 - 1s/epoch - 2ms/step\n",
            "Epoch 77/100\n",
            "645/645 - 1s - loss: 2.6570 - 1s/epoch - 2ms/step\n",
            "Epoch 78/100\n",
            "645/645 - 1s - loss: 2.5848 - 1s/epoch - 2ms/step\n",
            "Epoch 79/100\n",
            "645/645 - 1s - loss: 2.5228 - 1s/epoch - 2ms/step\n",
            "Epoch 80/100\n",
            "645/645 - 1s - loss: 2.4295 - 1s/epoch - 2ms/step\n",
            "Epoch 81/100\n",
            "645/645 - 1s - loss: 2.3286 - 1s/epoch - 2ms/step\n",
            "Epoch 82/100\n",
            "645/645 - 1s - loss: 2.2612 - 1s/epoch - 2ms/step\n",
            "Epoch 83/100\n",
            "645/645 - 1s - loss: 2.3530 - 1s/epoch - 2ms/step\n",
            "Epoch 84/100\n",
            "645/645 - 1s - loss: 2.5194 - 1s/epoch - 2ms/step\n",
            "Epoch 85/100\n",
            "645/645 - 1s - loss: 2.4628 - 1s/epoch - 2ms/step\n",
            "Epoch 86/100\n",
            "645/645 - 1s - loss: 2.4606 - 1s/epoch - 2ms/step\n",
            "Epoch 87/100\n",
            "645/645 - 1s - loss: 2.4073 - 1s/epoch - 2ms/step\n",
            "Epoch 88/100\n",
            "645/645 - 1s - loss: 2.3613 - 1s/epoch - 2ms/step\n",
            "Epoch 89/100\n",
            "645/645 - 1s - loss: 2.2884 - 1s/epoch - 2ms/step\n",
            "Epoch 90/100\n",
            "645/645 - 1s - loss: 2.2468 - 1s/epoch - 2ms/step\n",
            "Epoch 91/100\n",
            "645/645 - 1s - loss: 2.2538 - 1s/epoch - 2ms/step\n",
            "Epoch 92/100\n",
            "645/645 - 1s - loss: 2.3603 - 1s/epoch - 2ms/step\n",
            "Epoch 93/100\n",
            "645/645 - 1s - loss: 2.5970 - 1s/epoch - 2ms/step\n",
            "Epoch 94/100\n",
            "645/645 - 1s - loss: 2.8742 - 1s/epoch - 2ms/step\n",
            "Epoch 95/100\n",
            "645/645 - 1s - loss: 2.5139 - 1s/epoch - 2ms/step\n",
            "Epoch 96/100\n",
            "645/645 - 1s - loss: 2.2456 - 1s/epoch - 2ms/step\n",
            "Epoch 97/100\n",
            "645/645 - 1s - loss: 2.1223 - 1s/epoch - 2ms/step\n",
            "Epoch 98/100\n",
            "645/645 - 1s - loss: 2.1210 - 1s/epoch - 2ms/step\n",
            "Epoch 99/100\n",
            "645/645 - 1s - loss: 2.2495 - 1s/epoch - 2ms/step\n",
            "Epoch 100/100\n",
            "645/645 - 1s - loss: 2.7409 - 1s/epoch - 2ms/step\n"
          ]
        }
      ]
    },
    {
      "cell_type": "code",
      "source": [
        "y_pred = lstm.predict(X_test)\n",
        "\n",
        "\n",
        "rmse = mean_squared_error(y_test,y_pred, squared = False)\n",
        "mape = mean_absolute_percentage_error(y_test,y_pred[:,0])\n",
        "\n",
        "print(\"RMSE : \",rmse)\n",
        "print(\"MAPE : \",mape)"
      ],
      "metadata": {
        "colab": {
          "base_uri": "https://localhost:8080/"
        },
        "id": "lVHzIUS4sWo_",
        "outputId": "99132949-7f82-4f56-d448-66527803a106"
      },
      "execution_count": 23,
      "outputs": [
        {
          "output_type": "stream",
          "name": "stdout",
          "text": [
            "RMSE :  4.716613807056373\n",
            "MAPE :  0.02992934560560693\n"
          ]
        }
      ]
    },
    {
      "cell_type": "code",
      "source": [
        "#We see that within 20 epochs the model trained very well and loss decreased significantly\n",
        "loss = history.history['loss']\n",
        "plt.plot(loss)"
      ],
      "metadata": {
        "colab": {
          "base_uri": "https://localhost:8080/",
          "height": 282
        },
        "id": "CIKeeguUyxoB",
        "outputId": "f28d9da5-78aa-4899-e7f6-5b7d6449710b"
      },
      "execution_count": 24,
      "outputs": [
        {
          "output_type": "execute_result",
          "data": {
            "text/plain": [
              "[<matplotlib.lines.Line2D at 0x7fc05ca69cd0>]"
            ]
          },
          "metadata": {},
          "execution_count": 24
        },
        {
          "output_type": "display_data",
          "data": {
            "text/plain": [
              "<Figure size 432x288 with 1 Axes>"
            ],
            "image/png": "[encoded data removed]"
          },
          "metadata": {
            "needs_background": "light"
          }
        }
      ]
    },
    {
      "cell_type": "code",
      "source": [
        "plt.figure(figsize = (15,10))\n",
        "\n",
        "plt.plot(X_test_date[1:],y_test, label = 'Actual')\n",
        "plt.plot(X_test_date[1:],y_pred, label = 'Predicted')\n",
        "plt.xlabel(\"Date of the stock\")\n",
        "plt.ylabel(\"Stock Price\")\n",
        "plt.legend()\n",
        "plt.show()"
      ],
      "metadata": {
        "colab": {
          "base_uri": "https://localhost:8080/",
          "height": 606
        },
        "id": "wLv1dD8XxROa",
        "outputId": "b566e378-e943-4c95-be8e-2e8f644b4dad"
      },
      "execution_count": 25,
      "outputs": [
        {
          "output_type": "display_data",
          "data": {
            "text/plain": [
              "<Figure size 1080x720 with 1 Axes>"
            ],
            "image/png": "[encoded data removed]"
          },
          "metadata": {
            "needs_background": "light"
          }
        }
      ]
    },
    {
      "cell_type": "markdown",
      "source": [
        "### Building a deeper LSTM Model"
      ],
      "metadata": {
        "id": "4JmgN-yszsbJ"
      }
    },
    {
      "cell_type": "code",
      "source": [
        "lstm = Sequential()\n",
        "lstm.add(LSTM(50, input_shape = (X_train.shape[1],X_train.shape[2]), activation = 'relu', return_sequences = True))\n",
        "lstm.add(LSTM(50, activation = 'relu'))\n",
        "lstm.add(Dense(1))\n",
        "\n",
        "lstm.compile(loss='mean_squared_error', optimizer = 'adam')\n",
        "lstm.summary()"
      ],
      "metadata": {
        "colab": {
          "base_uri": "https://localhost:8080/"
        },
        "id": "m6RXu9p5tFdE",
        "outputId": "4470b296-ad30-43d5-a33f-f70ee6708379"
      },
      "execution_count": 26,
      "outputs": [
        {
          "output_type": "stream",
          "name": "stdout",
          "text": [
            "Model: \"sequential_1\"\n",
            "_________________________________________________________________\n",
            " Layer (type)                Output Shape              Param #   \n",
            "=================================================================\n",
            " lstm_1 (LSTM)               (None, 2, 50)             10800     \n",
            "                                                                 \n",
            " lstm_2 (LSTM)               (None, 50)                20200     \n",
            "                                                                 \n",
            " dense_1 (Dense)             (None, 1)                 51        \n",
            "                                                                 \n",
            "=================================================================\n",
            "Total params: 31,051\n",
            "Trainable params: 31,051\n",
            "Non-trainable params: 0\n",
            "_________________________________________________________________\n"
          ]
        }
      ]
    },
    {
      "cell_type": "code",
      "source": [
        "history = lstm.fit(X_train,y_train, epochs = 100, batch_size = 4, verbose = 2, shuffle = False)"
      ],
      "metadata": {
        "id": "011-yc6Ss8nV",
        "colab": {
          "base_uri": "https://localhost:8080/"
        },
        "outputId": "16bfb52a-71bd-446a-9916-a2d84f109c2c"
      },
      "execution_count": 27,
      "outputs": [
        {
          "output_type": "stream",
          "name": "stdout",
          "text": [
            "Epoch 1/100\n",
            "645/645 - 3s - loss: 905.6180 - 3s/epoch - 5ms/step\n",
            "Epoch 2/100\n",
            "645/645 - 2s - loss: 371.9358 - 2s/epoch - 3ms/step\n",
            "Epoch 3/100\n",
            "645/645 - 2s - loss: 130.8478 - 2s/epoch - 3ms/step\n",
            "Epoch 4/100\n",
            "645/645 - 2s - loss: 85.0010 - 2s/epoch - 3ms/step\n",
            "Epoch 5/100\n",
            "645/645 - 2s - loss: 48.0142 - 2s/epoch - 2ms/step\n",
            "Epoch 6/100\n",
            "645/645 - 2s - loss: 21.6137 - 2s/epoch - 2ms/step\n",
            "Epoch 7/100\n",
            "645/645 - 2s - loss: 11.4467 - 2s/epoch - 3ms/step\n",
            "Epoch 8/100\n",
            "645/645 - 2s - loss: 7.4877 - 2s/epoch - 3ms/step\n",
            "Epoch 9/100\n",
            "645/645 - 2s - loss: 5.9719 - 2s/epoch - 2ms/step\n",
            "Epoch 10/100\n",
            "645/645 - 2s - loss: 5.5680 - 2s/epoch - 2ms/step\n",
            "Epoch 11/100\n",
            "645/645 - 2s - loss: 5.5806 - 2s/epoch - 3ms/step\n",
            "Epoch 12/100\n",
            "645/645 - 2s - loss: 5.8394 - 2s/epoch - 2ms/step\n",
            "Epoch 13/100\n",
            "645/645 - 2s - loss: 5.9948 - 2s/epoch - 2ms/step\n",
            "Epoch 14/100\n",
            "645/645 - 2s - loss: 5.8429 - 2s/epoch - 2ms/step\n",
            "Epoch 15/100\n",
            "645/645 - 2s - loss: 5.6499 - 2s/epoch - 3ms/step\n",
            "Epoch 16/100\n",
            "645/645 - 2s - loss: 5.5778 - 2s/epoch - 2ms/step\n",
            "Epoch 17/100\n",
            "645/645 - 2s - loss: 5.5044 - 2s/epoch - 3ms/step\n",
            "Epoch 18/100\n",
            "645/645 - 2s - loss: 5.4335 - 2s/epoch - 2ms/step\n",
            "Epoch 19/100\n",
            "645/645 - 2s - loss: 5.3616 - 2s/epoch - 2ms/step\n",
            "Epoch 20/100\n",
            "645/645 - 2s - loss: 5.2983 - 2s/epoch - 2ms/step\n",
            "Epoch 21/100\n",
            "645/645 - 2s - loss: 5.2363 - 2s/epoch - 2ms/step\n",
            "Epoch 22/100\n",
            "645/645 - 2s - loss: 5.1883 - 2s/epoch - 2ms/step\n",
            "Epoch 23/100\n",
            "645/645 - 2s - loss: 5.1318 - 2s/epoch - 2ms/step\n",
            "Epoch 24/100\n",
            "645/645 - 2s - loss: 5.0675 - 2s/epoch - 2ms/step\n",
            "Epoch 25/100\n",
            "645/645 - 2s - loss: 5.0333 - 2s/epoch - 2ms/step\n",
            "Epoch 26/100\n",
            "645/645 - 2s - loss: 4.9764 - 2s/epoch - 2ms/step\n",
            "Epoch 27/100\n",
            "645/645 - 2s - loss: 4.8818 - 2s/epoch - 2ms/step\n",
            "Epoch 28/100\n",
            "645/645 - 2s - loss: 4.8309 - 2s/epoch - 2ms/step\n",
            "Epoch 29/100\n",
            "645/645 - 2s - loss: 4.7732 - 2s/epoch - 2ms/step\n",
            "Epoch 30/100\n",
            "645/645 - 2s - loss: 4.7023 - 2s/epoch - 2ms/step\n",
            "Epoch 31/100\n",
            "645/645 - 2s - loss: 4.6311 - 2s/epoch - 2ms/step\n",
            "Epoch 32/100\n",
            "645/645 - 2s - loss: 4.5822 - 2s/epoch - 2ms/step\n",
            "Epoch 33/100\n",
            "645/645 - 2s - loss: 4.4907 - 2s/epoch - 2ms/step\n",
            "Epoch 34/100\n",
            "645/645 - 2s - loss: 4.4140 - 2s/epoch - 2ms/step\n",
            "Epoch 35/100\n",
            "645/645 - 3s - loss: 4.3660 - 3s/epoch - 4ms/step\n",
            "Epoch 36/100\n",
            "645/645 - 2s - loss: 4.3124 - 2s/epoch - 2ms/step\n",
            "Epoch 37/100\n",
            "645/645 - 2s - loss: 4.1769 - 2s/epoch - 2ms/step\n",
            "Epoch 38/100\n",
            "645/645 - 2s - loss: 4.1098 - 2s/epoch - 2ms/step\n",
            "Epoch 39/100\n",
            "645/645 - 2s - loss: 4.0347 - 2s/epoch - 3ms/step\n",
            "Epoch 40/100\n",
            "645/645 - 2s - loss: 3.9978 - 2s/epoch - 2ms/step\n",
            "Epoch 41/100\n",
            "645/645 - 2s - loss: 3.8816 - 2s/epoch - 2ms/step\n",
            "Epoch 42/100\n",
            "645/645 - 2s - loss: 3.8176 - 2s/epoch - 2ms/step\n",
            "Epoch 43/100\n",
            "645/645 - 2s - loss: 3.7650 - 2s/epoch - 3ms/step\n",
            "Epoch 44/100\n",
            "645/645 - 2s - loss: 3.6376 - 2s/epoch - 2ms/step\n",
            "Epoch 45/100\n",
            "645/645 - 2s - loss: 3.5786 - 2s/epoch - 3ms/step\n",
            "Epoch 46/100\n",
            "645/645 - 2s - loss: 3.4636 - 2s/epoch - 2ms/step\n",
            "Epoch 47/100\n",
            "645/645 - 2s - loss: 3.4322 - 2s/epoch - 2ms/step\n",
            "Epoch 48/100\n",
            "645/645 - 2s - loss: 3.3574 - 2s/epoch - 2ms/step\n",
            "Epoch 49/100\n",
            "645/645 - 2s - loss: 3.2148 - 2s/epoch - 2ms/step\n",
            "Epoch 50/100\n",
            "645/645 - 2s - loss: 3.1628 - 2s/epoch - 2ms/step\n",
            "Epoch 51/100\n",
            "645/645 - 2s - loss: 2.9800 - 2s/epoch - 2ms/step\n",
            "Epoch 52/100\n",
            "645/645 - 2s - loss: 2.9209 - 2s/epoch - 2ms/step\n",
            "Epoch 53/100\n",
            "645/645 - 2s - loss: 2.8673 - 2s/epoch - 2ms/step\n",
            "Epoch 54/100\n",
            "645/645 - 2s - loss: 2.8134 - 2s/epoch - 2ms/step\n",
            "Epoch 55/100\n",
            "645/645 - 2s - loss: 2.7173 - 2s/epoch - 2ms/step\n",
            "Epoch 56/100\n",
            "645/645 - 2s - loss: 2.7872 - 2s/epoch - 2ms/step\n",
            "Epoch 57/100\n",
            "645/645 - 2s - loss: 2.6980 - 2s/epoch - 2ms/step\n",
            "Epoch 58/100\n",
            "645/645 - 2s - loss: 2.5323 - 2s/epoch - 2ms/step\n",
            "Epoch 59/100\n",
            "645/645 - 2s - loss: 2.5898 - 2s/epoch - 2ms/step\n",
            "Epoch 60/100\n",
            "645/645 - 2s - loss: 3.1949 - 2s/epoch - 3ms/step\n",
            "Epoch 61/100\n",
            "645/645 - 2s - loss: 3.6587 - 2s/epoch - 3ms/step\n",
            "Epoch 62/100\n",
            "645/645 - 2s - loss: 2.9641 - 2s/epoch - 2ms/step\n",
            "Epoch 63/100\n",
            "645/645 - 2s - loss: 2.9931 - 2s/epoch - 2ms/step\n",
            "Epoch 64/100\n",
            "645/645 - 2s - loss: 2.8309 - 2s/epoch - 2ms/step\n",
            "Epoch 65/100\n",
            "645/645 - 2s - loss: 2.9572 - 2s/epoch - 2ms/step\n",
            "Epoch 66/100\n",
            "645/645 - 2s - loss: 2.4693 - 2s/epoch - 2ms/step\n",
            "Epoch 67/100\n",
            "645/645 - 2s - loss: 1.9426 - 2s/epoch - 2ms/step\n",
            "Epoch 68/100\n",
            "645/645 - 2s - loss: 1.9769 - 2s/epoch - 2ms/step\n",
            "Epoch 69/100\n",
            "645/645 - 2s - loss: 2.5792 - 2s/epoch - 2ms/step\n",
            "Epoch 70/100\n",
            "645/645 - 2s - loss: 3.2693 - 2s/epoch - 2ms/step\n",
            "Epoch 71/100\n",
            "645/645 - 2s - loss: 3.2914 - 2s/epoch - 2ms/step\n",
            "Epoch 72/100\n",
            "645/645 - 2s - loss: 2.7369 - 2s/epoch - 2ms/step\n",
            "Epoch 73/100\n",
            "645/645 - 2s - loss: 2.5403 - 2s/epoch - 3ms/step\n",
            "Epoch 74/100\n",
            "645/645 - 2s - loss: 2.6462 - 2s/epoch - 2ms/step\n",
            "Epoch 75/100\n",
            "645/645 - 2s - loss: 2.9947 - 2s/epoch - 2ms/step\n",
            "Epoch 76/100\n",
            "645/645 - 2s - loss: 2.9715 - 2s/epoch - 2ms/step\n",
            "Epoch 77/100\n",
            "645/645 - 2s - loss: 2.1843 - 2s/epoch - 2ms/step\n",
            "Epoch 78/100\n",
            "645/645 - 2s - loss: 2.0839 - 2s/epoch - 2ms/step\n",
            "Epoch 79/100\n",
            "645/645 - 2s - loss: 2.3043 - 2s/epoch - 2ms/step\n",
            "Epoch 80/100\n",
            "645/645 - 2s - loss: 1.9999 - 2s/epoch - 2ms/step\n",
            "Epoch 81/100\n",
            "645/645 - 2s - loss: 1.8417 - 2s/epoch - 2ms/step\n",
            "Epoch 82/100\n",
            "645/645 - 2s - loss: 1.7873 - 2s/epoch - 2ms/step\n",
            "Epoch 83/100\n",
            "645/645 - 2s - loss: 2.1261 - 2s/epoch - 2ms/step\n",
            "Epoch 84/100\n",
            "645/645 - 2s - loss: 2.0210 - 2s/epoch - 2ms/step\n",
            "Epoch 85/100\n",
            "645/645 - 2s - loss: 1.7495 - 2s/epoch - 2ms/step\n",
            "Epoch 86/100\n",
            "645/645 - 2s - loss: 1.8126 - 2s/epoch - 2ms/step\n",
            "Epoch 87/100\n",
            "645/645 - 2s - loss: 2.2417 - 2s/epoch - 3ms/step\n",
            "Epoch 88/100\n",
            "645/645 - 2s - loss: 2.1937 - 2s/epoch - 2ms/step\n",
            "Epoch 89/100\n",
            "645/645 - 2s - loss: 2.0016 - 2s/epoch - 2ms/step\n",
            "Epoch 90/100\n",
            "645/645 - 2s - loss: 2.8426 - 2s/epoch - 2ms/step\n",
            "Epoch 91/100\n",
            "645/645 - 2s - loss: 3.1103 - 2s/epoch - 2ms/step\n",
            "Epoch 92/100\n",
            "645/645 - 2s - loss: 2.6613 - 2s/epoch - 2ms/step\n",
            "Epoch 93/100\n",
            "645/645 - 2s - loss: 2.9583 - 2s/epoch - 2ms/step\n",
            "Epoch 94/100\n",
            "645/645 - 2s - loss: 2.1949 - 2s/epoch - 2ms/step\n",
            "Epoch 95/100\n",
            "645/645 - 2s - loss: 3.2412 - 2s/epoch - 2ms/step\n",
            "Epoch 96/100\n",
            "645/645 - 2s - loss: 2.2432 - 2s/epoch - 2ms/step\n",
            "Epoch 97/100\n",
            "645/645 - 2s - loss: 2.2749 - 2s/epoch - 2ms/step\n",
            "Epoch 98/100\n",
            "645/645 - 2s - loss: 2.1741 - 2s/epoch - 2ms/step\n",
            "Epoch 99/100\n",
            "645/645 - 2s - loss: 2.9276 - 2s/epoch - 3ms/step\n",
            "Epoch 100/100\n",
            "645/645 - 2s - loss: 2.7629 - 2s/epoch - 3ms/step\n"
          ]
        }
      ]
    },
    {
      "cell_type": "code",
      "source": [
        "y_pred = lstm.predict(X_test)\n",
        "\n",
        "\n",
        "rmse = mean_squared_error(y_test,y_pred, squared = False)\n",
        "mape = mean_absolute_percentage_error(y_test,y_pred[:,0])\n",
        "\n",
        "print(\"RMSE : \",rmse)\n",
        "print(\"MAPE : \",mape)"
      ],
      "metadata": {
        "colab": {
          "base_uri": "https://localhost:8080/"
        },
        "id": "IMBCFkvH0Uzu",
        "outputId": "fa74d425-f8b1-46a4-9069-818dac4a546a"
      },
      "execution_count": 28,
      "outputs": [
        {
          "output_type": "stream",
          "name": "stdout",
          "text": [
            "RMSE :  4.863124410913745\n",
            "MAPE :  0.03073378351811598\n"
          ]
        }
      ]
    },
    {
      "cell_type": "markdown",
      "source": [
        "#### We see that as the model became more complex with more layers, the model overfit, which caused the model to not perform as well as previous simple model."
      ],
      "metadata": {
        "id": "5soupHx21W9V"
      }
    },
    {
      "cell_type": "code",
      "source": [
        "#We see that within 15 epochs the model trained very well and loss decreased significantly\n",
        "loss = history.history['loss']\n",
        "plt.plot(loss)"
      ],
      "metadata": {
        "colab": {
          "base_uri": "https://localhost:8080/",
          "height": 0
        },
        "id": "V_waxsJE0kkA",
        "outputId": "5957113e-a5f8-44f3-a0d0-09757b4db69e"
      },
      "execution_count": 29,
      "outputs": [
        {
          "output_type": "execute_result",
          "data": {
            "text/plain": [
              "[<matplotlib.lines.Line2D at 0x7fc0567dbb90>]"
            ]
          },
          "metadata": {},
          "execution_count": 29
        },
        {
          "output_type": "display_data",
          "data": {
            "text/plain": [
              "<Figure size 432x288 with 1 Axes>"
            ],
            "image/png": "[encoded data removed]"
          },
          "metadata": {
            "needs_background": "light"
          }
        }
      ]
    },
    {
      "cell_type": "markdown",
      "source": [
        "### Now increasing the n_steps value to 10 and training the model"
      ],
      "metadata": {
        "id": "YMvsda7t1tQf"
      }
    },
    {
      "cell_type": "code",
      "source": [
        "stock_data = X_ft.copy()\n",
        "stock_data['Target'] = target_y\n",
        "\n",
        "\n",
        "X1,y1 = lstm_split(stock_data, n_steps = 10)\n",
        "\n",
        "train_split = 0.8\n",
        "split_idx = int(np.ceil(len(X1)*train_split))\n",
        "date_index = stock_data.index\n",
        "\n",
        "X_train, X_test = X1[:split_idx], X1[split_idx:]\n",
        "y_train, y_test = y1[:split_idx], y1[split_idx:]\n",
        "\n",
        "X_train_date, X_test_date = date_index[:split_idx], date_index[split_idx:]\n",
        "\n",
        "print(X1.shape, X_train.shape, X_test.shape, y_test.shape)"
      ],
      "metadata": {
        "colab": {
          "base_uri": "https://localhost:8080/"
        },
        "id": "zGUbwERB1yhh",
        "outputId": "1f308159-6c87-41a9-e441-98e301b88c5a"
      },
      "execution_count": 30,
      "outputs": [
        {
          "output_type": "stream",
          "name": "stdout",
          "text": [
            "(3216, 10, 3) (2573, 10, 3) (643, 10, 3) (643,)\n"
          ]
        }
      ]
    },
    {
      "cell_type": "code",
      "source": [
        ""
      ],
      "metadata": {
        "id": "dhwkm9ed10Rl"
      },
      "execution_count": 30,
      "outputs": []
    },
    {
      "cell_type": "code",
      "source": [
        "lstm = Sequential()\n",
        "lstm.add(LSTM(32, input_shape = (X_train.shape[1], X_train.shape[2]), activation = 'relu', return_sequences = True))\n",
        "lstm.add(LSTM(16,activation = 'relu'))\n",
        "lstm.add(Dense(1))\n",
        "lstm.compile(loss='mean_squared_error', optimizer = 'adam')\n",
        "lstm.summary()"
      ],
      "metadata": {
        "colab": {
          "base_uri": "https://localhost:8080/"
        },
        "id": "OW4rvoS-18PY",
        "outputId": "dc86d7f3-5e4a-49b6-9ab7-c2661061ae8b"
      },
      "execution_count": 31,
      "outputs": [
        {
          "output_type": "stream",
          "name": "stdout",
          "text": [
            "Model: \"sequential_2\"\n",
            "_________________________________________________________________\n",
            " Layer (type)                Output Shape              Param #   \n",
            "=================================================================\n",
            " lstm_3 (LSTM)               (None, 10, 32)            4608      \n",
            "                                                                 \n",
            " lstm_4 (LSTM)               (None, 16)                3136      \n",
            "                                                                 \n",
            " dense_2 (Dense)             (None, 1)                 17        \n",
            "                                                                 \n",
            "=================================================================\n",
            "Total params: 7,761\n",
            "Trainable params: 7,761\n",
            "Non-trainable params: 0\n",
            "_________________________________________________________________\n"
          ]
        }
      ]
    },
    {
      "cell_type": "code",
      "source": [
        "history = lstm.fit(X_train,y_train, epochs = 100, batch_size = 4, verbose = 2, shuffle = False)"
      ],
      "metadata": {
        "colab": {
          "base_uri": "https://localhost:8080/"
        },
        "id": "BKaN9lu218PZ",
        "outputId": "a0bcac2a-2ad8-4052-a40f-fafaa43b6a14"
      },
      "execution_count": 32,
      "outputs": [
        {
          "output_type": "stream",
          "name": "stdout",
          "text": [
            "Epoch 1/100\n",
            "644/644 - 7s - loss: 666.1385 - 7s/epoch - 11ms/step\n",
            "Epoch 2/100\n",
            "644/644 - 5s - loss: 2524.6177 - 5s/epoch - 8ms/step\n",
            "Epoch 3/100\n",
            "644/644 - 5s - loss: 317.2137 - 5s/epoch - 8ms/step\n",
            "Epoch 4/100\n",
            "644/644 - 5s - loss: 141.5036 - 5s/epoch - 8ms/step\n",
            "Epoch 5/100\n",
            "644/644 - 5s - loss: 98.6214 - 5s/epoch - 8ms/step\n",
            "Epoch 6/100\n",
            "644/644 - 5s - loss: 88.2657 - 5s/epoch - 8ms/step\n",
            "Epoch 7/100\n",
            "644/644 - 5s - loss: 84.1101 - 5s/epoch - 8ms/step\n",
            "Epoch 8/100\n",
            "644/644 - 6s - loss: 90.6386 - 6s/epoch - 9ms/step\n",
            "Epoch 9/100\n",
            "644/644 - 7s - loss: 89.5116 - 7s/epoch - 11ms/step\n",
            "Epoch 10/100\n",
            "644/644 - 5s - loss: 90.7215 - 5s/epoch - 8ms/step\n",
            "Epoch 11/100\n",
            "644/644 - 5s - loss: 91.6320 - 5s/epoch - 8ms/step\n",
            "Epoch 12/100\n",
            "644/644 - 5s - loss: 96.4242 - 5s/epoch - 8ms/step\n",
            "Epoch 13/100\n",
            "644/644 - 5s - loss: 92.2624 - 5s/epoch - 8ms/step\n",
            "Epoch 14/100\n",
            "644/644 - 5s - loss: 95.0655 - 5s/epoch - 8ms/step\n",
            "Epoch 15/100\n",
            "644/644 - 5s - loss: 64.8293 - 5s/epoch - 8ms/step\n",
            "Epoch 16/100\n",
            "644/644 - 5s - loss: 103.3685 - 5s/epoch - 8ms/step\n",
            "Epoch 17/100\n",
            "644/644 - 5s - loss: 95.0421 - 5s/epoch - 8ms/step\n",
            "Epoch 18/100\n",
            "644/644 - 5s - loss: 115.1664 - 5s/epoch - 8ms/step\n",
            "Epoch 19/100\n",
            "644/644 - 5s - loss: 103.0599 - 5s/epoch - 8ms/step\n",
            "Epoch 20/100\n",
            "644/644 - 5s - loss: 110.5697 - 5s/epoch - 8ms/step\n",
            "Epoch 21/100\n",
            "644/644 - 5s - loss: 84.6876 - 5s/epoch - 8ms/step\n",
            "Epoch 22/100\n",
            "644/644 - 5s - loss: 102.2087 - 5s/epoch - 8ms/step\n",
            "Epoch 23/100\n",
            "644/644 - 5s - loss: 74.6436 - 5s/epoch - 8ms/step\n",
            "Epoch 24/100\n",
            "644/644 - 6s - loss: 94.3122 - 6s/epoch - 9ms/step\n",
            "Epoch 25/100\n",
            "644/644 - 5s - loss: 71.9574 - 5s/epoch - 8ms/step\n",
            "Epoch 26/100\n",
            "644/644 - 5s - loss: 86.2324 - 5s/epoch - 8ms/step\n",
            "Epoch 27/100\n",
            "644/644 - 5s - loss: 67.7695 - 5s/epoch - 8ms/step\n",
            "Epoch 28/100\n",
            "644/644 - 5s - loss: 79.5403 - 5s/epoch - 8ms/step\n",
            "Epoch 29/100\n",
            "644/644 - 5s - loss: 59.6175 - 5s/epoch - 8ms/step\n",
            "Epoch 30/100\n",
            "644/644 - 5s - loss: 74.2227 - 5s/epoch - 8ms/step\n",
            "Epoch 31/100\n",
            "644/644 - 5s - loss: 60.3309 - 5s/epoch - 8ms/step\n",
            "Epoch 32/100\n",
            "644/644 - 5s - loss: 66.8069 - 5s/epoch - 8ms/step\n",
            "Epoch 33/100\n",
            "644/644 - 5s - loss: 59.3415 - 5s/epoch - 8ms/step\n",
            "Epoch 34/100\n",
            "644/644 - 5s - loss: 60.5039 - 5s/epoch - 8ms/step\n",
            "Epoch 35/100\n",
            "644/644 - 5s - loss: 52.2903 - 5s/epoch - 8ms/step\n",
            "Epoch 36/100\n",
            "644/644 - 5s - loss: 56.6208 - 5s/epoch - 8ms/step\n",
            "Epoch 37/100\n",
            "644/644 - 5s - loss: 51.3955 - 5s/epoch - 8ms/step\n",
            "Epoch 38/100\n",
            "644/644 - 5s - loss: 51.1453 - 5s/epoch - 8ms/step\n",
            "Epoch 39/100\n",
            "644/644 - 5s - loss: 45.6538 - 5s/epoch - 8ms/step\n",
            "Epoch 40/100\n",
            "644/644 - 5s - loss: 45.7683 - 5s/epoch - 8ms/step\n",
            "Epoch 41/100\n",
            "644/644 - 5s - loss: 43.9373 - 5s/epoch - 8ms/step\n",
            "Epoch 42/100\n",
            "644/644 - 5s - loss: 44.2503 - 5s/epoch - 8ms/step\n",
            "Epoch 43/100\n",
            "644/644 - 5s - loss: 40.6366 - 5s/epoch - 8ms/step\n",
            "Epoch 44/100\n",
            "644/644 - 5s - loss: 60.1685 - 5s/epoch - 8ms/step\n",
            "Epoch 45/100\n",
            "644/644 - 5s - loss: 42.7142 - 5s/epoch - 8ms/step\n",
            "Epoch 46/100\n",
            "644/644 - 5s - loss: 41.9247 - 5s/epoch - 8ms/step\n",
            "Epoch 47/100\n",
            "644/644 - 5s - loss: 32.9068 - 5s/epoch - 8ms/step\n",
            "Epoch 48/100\n",
            "644/644 - 5s - loss: 25.6159 - 5s/epoch - 8ms/step\n",
            "Epoch 49/100\n",
            "644/644 - 5s - loss: 26.1293 - 5s/epoch - 8ms/step\n",
            "Epoch 50/100\n",
            "644/644 - 5s - loss: 24.7477 - 5s/epoch - 8ms/step\n",
            "Epoch 51/100\n",
            "644/644 - 5s - loss: 25.8486 - 5s/epoch - 8ms/step\n",
            "Epoch 52/100\n",
            "644/644 - 5s - loss: 32.2489 - 5s/epoch - 8ms/step\n",
            "Epoch 53/100\n",
            "644/644 - 5s - loss: 30.8925 - 5s/epoch - 8ms/step\n",
            "Epoch 54/100\n",
            "644/644 - 5s - loss: 25.4679 - 5s/epoch - 8ms/step\n",
            "Epoch 55/100\n",
            "644/644 - 5s - loss: 21.0785 - 5s/epoch - 8ms/step\n",
            "Epoch 56/100\n",
            "644/644 - 5s - loss: 20.9341 - 5s/epoch - 8ms/step\n",
            "Epoch 57/100\n",
            "644/644 - 5s - loss: 23.1085 - 5s/epoch - 8ms/step\n",
            "Epoch 58/100\n",
            "644/644 - 5s - loss: 22.4923 - 5s/epoch - 8ms/step\n",
            "Epoch 59/100\n",
            "644/644 - 5s - loss: 34.4472 - 5s/epoch - 8ms/step\n",
            "Epoch 60/100\n",
            "644/644 - 5s - loss: 45.5520 - 5s/epoch - 8ms/step\n",
            "Epoch 61/100\n",
            "644/644 - 5s - loss: 24.0556 - 5s/epoch - 8ms/step\n",
            "Epoch 62/100\n",
            "644/644 - 5s - loss: 22.0853 - 5s/epoch - 8ms/step\n",
            "Epoch 63/100\n",
            "644/644 - 5s - loss: 19.2977 - 5s/epoch - 8ms/step\n",
            "Epoch 64/100\n",
            "644/644 - 5s - loss: 17.3659 - 5s/epoch - 8ms/step\n",
            "Epoch 65/100\n",
            "644/644 - 5s - loss: 16.6487 - 5s/epoch - 8ms/step\n",
            "Epoch 66/100\n",
            "644/644 - 5s - loss: 18.3876 - 5s/epoch - 8ms/step\n",
            "Epoch 67/100\n",
            "644/644 - 5s - loss: 22.2296 - 5s/epoch - 8ms/step\n",
            "Epoch 68/100\n",
            "644/644 - 5s - loss: 32.0997 - 5s/epoch - 8ms/step\n",
            "Epoch 69/100\n",
            "644/644 - 5s - loss: 28.9154 - 5s/epoch - 8ms/step\n",
            "Epoch 70/100\n",
            "644/644 - 5s - loss: 16.7495 - 5s/epoch - 8ms/step\n",
            "Epoch 71/100\n",
            "644/644 - 5s - loss: 15.8182 - 5s/epoch - 8ms/step\n",
            "Epoch 72/100\n",
            "644/644 - 5s - loss: 16.7834 - 5s/epoch - 8ms/step\n",
            "Epoch 73/100\n",
            "644/644 - 5s - loss: 16.4617 - 5s/epoch - 8ms/step\n",
            "Epoch 74/100\n",
            "644/644 - 5s - loss: 19.6197 - 5s/epoch - 8ms/step\n",
            "Epoch 75/100\n",
            "644/644 - 5s - loss: 25.4082 - 5s/epoch - 8ms/step\n",
            "Epoch 76/100\n",
            "644/644 - 5s - loss: 28.4078 - 5s/epoch - 8ms/step\n",
            "Epoch 77/100\n",
            "644/644 - 5s - loss: 22.3454 - 5s/epoch - 8ms/step\n",
            "Epoch 78/100\n",
            "644/644 - 5s - loss: 22.6716 - 5s/epoch - 8ms/step\n",
            "Epoch 79/100\n",
            "644/644 - 5s - loss: 44.2536 - 5s/epoch - 8ms/step\n",
            "Epoch 80/100\n",
            "644/644 - 5s - loss: 28.8949 - 5s/epoch - 8ms/step\n",
            "Epoch 81/100\n",
            "644/644 - 5s - loss: 24.2947 - 5s/epoch - 8ms/step\n",
            "Epoch 82/100\n",
            "644/644 - 5s - loss: 21.3219 - 5s/epoch - 8ms/step\n",
            "Epoch 83/100\n",
            "644/644 - 5s - loss: 21.7696 - 5s/epoch - 8ms/step\n",
            "Epoch 84/100\n",
            "644/644 - 5s - loss: 16.9687 - 5s/epoch - 8ms/step\n",
            "Epoch 85/100\n",
            "644/644 - 5s - loss: 14.1029 - 5s/epoch - 8ms/step\n",
            "Epoch 86/100\n",
            "644/644 - 5s - loss: 14.8477 - 5s/epoch - 8ms/step\n",
            "Epoch 87/100\n",
            "644/644 - 6s - loss: 22.8541 - 6s/epoch - 9ms/step\n",
            "Epoch 88/100\n",
            "644/644 - 5s - loss: 22.0112 - 5s/epoch - 8ms/step\n",
            "Epoch 89/100\n",
            "644/644 - 5s - loss: 11.3661 - 5s/epoch - 8ms/step\n",
            "Epoch 90/100\n",
            "644/644 - 5s - loss: 12.2955 - 5s/epoch - 8ms/step\n",
            "Epoch 91/100\n",
            "644/644 - 5s - loss: 13.6836 - 5s/epoch - 8ms/step\n",
            "Epoch 92/100\n",
            "644/644 - 5s - loss: 23.9931 - 5s/epoch - 8ms/step\n",
            "Epoch 93/100\n",
            "644/644 - 5s - loss: 14.1698 - 5s/epoch - 8ms/step\n",
            "Epoch 94/100\n",
            "644/644 - 5s - loss: 10.0459 - 5s/epoch - 8ms/step\n",
            "Epoch 95/100\n",
            "644/644 - 5s - loss: 11.9148 - 5s/epoch - 8ms/step\n",
            "Epoch 96/100\n",
            "644/644 - 5s - loss: 18.1918 - 5s/epoch - 8ms/step\n",
            "Epoch 97/100\n",
            "644/644 - 5s - loss: 25.9760 - 5s/epoch - 8ms/step\n",
            "Epoch 98/100\n",
            "644/644 - 5s - loss: 34.3627 - 5s/epoch - 8ms/step\n",
            "Epoch 99/100\n",
            "644/644 - 5s - loss: 10.9068 - 5s/epoch - 8ms/step\n",
            "Epoch 100/100\n",
            "644/644 - 5s - loss: 15.8664 - 5s/epoch - 8ms/step\n"
          ]
        }
      ]
    },
    {
      "cell_type": "code",
      "source": [
        "y_pred = lstm.predict(X_test)\n",
        "\n",
        "\n",
        "rmse = mean_squared_error(y_test,y_pred, squared = False)\n",
        "mape = mean_absolute_percentage_error(y_test,y_pred[:,0])\n",
        "\n",
        "print(\"RMSE : \",rmse)\n",
        "print(\"MAPE : \",mape)"
      ],
      "metadata": {
        "colab": {
          "base_uri": "https://localhost:8080/"
        },
        "outputId": "a1ea51ea-697d-463e-e8e2-eedd55733c98",
        "id": "hAYYlkla18Pa"
      },
      "execution_count": 33,
      "outputs": [
        {
          "output_type": "stream",
          "name": "stdout",
          "text": [
            "RMSE :  15.073647393844716\n",
            "MAPE :  0.1281274928137724\n"
          ]
        }
      ]
    },
    {
      "cell_type": "markdown",
      "source": [
        "### Simple Moving Average (SMA)"
      ],
      "metadata": {
        "id": "8FnmCyam9jz8"
      }
    },
    {
      "cell_type": "code",
      "source": [
        "train_split = 0.8\n",
        "split_idx = int(np.ceil(len(stock_data)*train_split))\n",
        "train = stock_data[['Open']].iloc[:split_idx]\n",
        "test = stock_data[['Open']].iloc[split_idx:]\n",
        "\n",
        "test_pred = np.array([train.rolling(10).mean().iloc[-1]]*len(test)).reshape((-1,1))\n",
        "\n",
        "print(\"Test RMSE: %.3f\" % mean_squared_error(test,test_pred))\n",
        "print(\"Test MAPE: %.3f\" % mean_absolute_percentage_error(test,test_pred))\n",
        "\n",
        "# plt.figure(figsize = ( 15,10))\n",
        "# plt.plot(test , label = \"Actual\") \n",
        "# plt.plot(test_pred, label = \"Predicted\") \n",
        "# plt.legend()\n",
        "# plt.show()\n",
        "\n"
      ],
      "metadata": {
        "colab": {
          "base_uri": "https://localhost:8080/"
        },
        "id": "AkSWTljd9nF1",
        "outputId": "64e4529f-ad0f-42da-bc0c-c96a5bc96713"
      },
      "execution_count": 34,
      "outputs": [
        {
          "output_type": "stream",
          "name": "stdout",
          "text": [
            "Test RMSE: 1.063\n",
            "Test MAPE: 0.853\n"
          ]
        }
      ]
    },
    {
      "cell_type": "code",
      "source": [
        "test_pred.shape"
      ],
      "metadata": {
        "colab": {
          "base_uri": "https://localhost:8080/"
        },
        "id": "goXM3NoE-tR7",
        "outputId": "a5132c24-95c0-422b-b8ba-9a44e2578646"
      },
      "execution_count": 35,
      "outputs": [
        {
          "output_type": "execute_result",
          "data": {
            "text/plain": [
              "(645, 1)"
            ]
          },
          "metadata": {},
          "execution_count": 35
        }
      ]
    },
    {
      "cell_type": "code",
      "source": [
        "test.shape"
      ],
      "metadata": {
        "colab": {
          "base_uri": "https://localhost:8080/"
        },
        "id": "ujU6TTNi_oN3",
        "outputId": "d550fd67-69a0-4953-bb5e-89a13f8f4b64"
      },
      "execution_count": 36,
      "outputs": [
        {
          "output_type": "execute_result",
          "data": {
            "text/plain": [
              "(645, 1)"
            ]
          },
          "metadata": {},
          "execution_count": 36
        }
      ]
    },
    {
      "cell_type": "code",
      "source": [
        ""
      ],
      "metadata": {
        "id": "VC_ODASG_pqA"
      },
      "execution_count": 36,
      "outputs": []
    }
  ]
}